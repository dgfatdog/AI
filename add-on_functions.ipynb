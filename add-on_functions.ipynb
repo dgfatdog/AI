{
 "cells": [
  {
   "cell_type": "markdown",
   "metadata": {
    "id": "zYJsmFnX_9IV"
   },
   "source": [
    "### **0. Run this cell to import all the required libraries.**"
   ]
  },
  {
   "cell_type": "code",
   "execution_count": 3,
   "metadata": {
    "executionInfo": {
     "elapsed": 325,
     "status": "ok",
     "timestamp": 1646727127310,
     "user": {
      "displayName": "Tony Benson",
      "photoUrl": "https://lh3.googleusercontent.com/a/default-user=s64",
      "userId": "09097856991483297044"
     },
     "user_tz": -480
    },
    "id": "5nsJNWBe92V_"
   },
   "outputs": [],
   "source": [
    "#Run this cell to import all the required libraries \n",
    "\n",
    "import os\n",
    "from PIL import Image\n",
    "from PIL import ImageFile\n",
    "ImageFile.LOAD_TRUNCATED_IMAGES = True"
   ]
  },
  {
   "cell_type": "markdown",
   "metadata": {
    "id": "6EElGHtC_uye"
   },
   "source": [
    "###**1. This function takes an image directory as an argument.**\n",
    "\n",
    "Convert all RGB images to Grayscale images. \n",
    "\n",
    "Note that all images must be directly under the directory in order that this function runs.\n",
    "\n",
    "All images converted to grayscale with overwrite original images in rgb"
   ]
  },
  {
   "cell_type": "code",
   "execution_count": 8,
   "metadata": {
    "colab": {
     "base_uri": "https://localhost:8080/",
     "height": 108
    },
    "executionInfo": {
     "elapsed": 7345,
     "status": "ok",
     "timestamp": 1646728436207,
     "user": {
      "displayName": "Tony Benson",
      "photoUrl": "https://lh3.googleusercontent.com/a/default-user=s64",
      "userId": "09097856991483297044"
     },
     "user_tz": -480
    },
    "id": "UoH95JWH-CKX",
    "outputId": "16fe53cf-61a1-4022-d5f3-9b1eaf069bf8"
   },
   "outputs": [
    {
     "name": "stdin",
     "output_type": "stream",
     "text": [
      "Please enter the image directory path of the images you would like to convert to Grayscale:  C:\\Users\\chris\\Desktop\\TraumaAI\\00Test\n"
     ]
    },
    {
     "name": "stdout",
     "output_type": "stream",
     "text": [
      "Not all files in the directory are RGB images, or some images cannot be opened.\n",
      "Please ensure all images in the directory are RGB images.\n"
     ]
    },
    {
     "ename": "KeyboardInterrupt",
     "evalue": "Interrupted by user",
     "output_type": "error",
     "traceback": [
      "\u001b[1;31m---------------------------------------------------------------------------\u001b[0m",
      "\u001b[1;31mKeyboardInterrupt\u001b[0m                         Traceback (most recent call last)",
      "\u001b[1;32m~\\AppData\\Local\\Temp/ipykernel_31800/3640359988.py\u001b[0m in \u001b[0;36m<module>\u001b[1;34m\u001b[0m\n\u001b[0;32m     14\u001b[0m     \u001b[1;32mreturn\u001b[0m \u001b[0mimg_dir_path\u001b[0m\u001b[1;33m\u001b[0m\u001b[1;33m\u001b[0m\u001b[0m\n\u001b[0;32m     15\u001b[0m \u001b[1;33m\u001b[0m\u001b[0m\n\u001b[1;32m---> 16\u001b[1;33m \u001b[0mrgb_to_grayscale\u001b[0m\u001b[1;33m(\u001b[0m\u001b[1;33m)\u001b[0m\u001b[1;33m\u001b[0m\u001b[1;33m\u001b[0m\u001b[0m\n\u001b[0m",
      "\u001b[1;32m~\\AppData\\Local\\Temp/ipykernel_31800/3640359988.py\u001b[0m in \u001b[0;36mrgb_to_grayscale\u001b[1;34m()\u001b[0m\n\u001b[0;32m      2\u001b[0m     \u001b[0mimage_converted\u001b[0m \u001b[1;33m=\u001b[0m \u001b[1;32mFalse\u001b[0m\u001b[1;33m\u001b[0m\u001b[1;33m\u001b[0m\u001b[0m\n\u001b[0;32m      3\u001b[0m     \u001b[1;32mwhile\u001b[0m \u001b[1;32mnot\u001b[0m \u001b[0mimage_converted\u001b[0m\u001b[1;33m:\u001b[0m\u001b[1;33m\u001b[0m\u001b[1;33m\u001b[0m\u001b[0m\n\u001b[1;32m----> 4\u001b[1;33m         \u001b[0mimg_dir_path\u001b[0m \u001b[1;33m=\u001b[0m \u001b[0minput\u001b[0m\u001b[1;33m(\u001b[0m\u001b[1;34m\"Please enter the image directory path of the images you would like to convert to Grayscale: \"\u001b[0m\u001b[1;33m)\u001b[0m\u001b[1;33m\u001b[0m\u001b[1;33m\u001b[0m\u001b[0m\n\u001b[0m\u001b[0;32m      5\u001b[0m         \u001b[1;32mtry\u001b[0m\u001b[1;33m:\u001b[0m\u001b[1;33m\u001b[0m\u001b[1;33m\u001b[0m\u001b[0m\n\u001b[0;32m      6\u001b[0m             \u001b[1;32mfor\u001b[0m \u001b[0mimg_path\u001b[0m \u001b[1;32min\u001b[0m \u001b[0mos\u001b[0m\u001b[1;33m.\u001b[0m\u001b[0mlistdir\u001b[0m\u001b[1;33m(\u001b[0m\u001b[0mimg_dir_path\u001b[0m\u001b[1;33m)\u001b[0m\u001b[1;33m:\u001b[0m\u001b[1;33m\u001b[0m\u001b[1;33m\u001b[0m\u001b[0m\n",
      "\u001b[1;32m~\\anaconda3\\envs\\AI\\lib\\site-packages\\ipykernel\\kernelbase.py\u001b[0m in \u001b[0;36mraw_input\u001b[1;34m(self, prompt)\u001b[0m\n\u001b[0;32m   1004\u001b[0m                 \u001b[1;34m\"raw_input was called, but this frontend does not support input requests.\"\u001b[0m\u001b[1;33m\u001b[0m\u001b[1;33m\u001b[0m\u001b[0m\n\u001b[0;32m   1005\u001b[0m             )\n\u001b[1;32m-> 1006\u001b[1;33m         return self._input_request(\n\u001b[0m\u001b[0;32m   1007\u001b[0m             \u001b[0mstr\u001b[0m\u001b[1;33m(\u001b[0m\u001b[0mprompt\u001b[0m\u001b[1;33m)\u001b[0m\u001b[1;33m,\u001b[0m\u001b[1;33m\u001b[0m\u001b[1;33m\u001b[0m\u001b[0m\n\u001b[0;32m   1008\u001b[0m             \u001b[0mself\u001b[0m\u001b[1;33m.\u001b[0m\u001b[0m_parent_ident\u001b[0m\u001b[1;33m[\u001b[0m\u001b[1;34m\"shell\"\u001b[0m\u001b[1;33m]\u001b[0m\u001b[1;33m,\u001b[0m\u001b[1;33m\u001b[0m\u001b[1;33m\u001b[0m\u001b[0m\n",
      "\u001b[1;32m~\\anaconda3\\envs\\AI\\lib\\site-packages\\ipykernel\\kernelbase.py\u001b[0m in \u001b[0;36m_input_request\u001b[1;34m(self, prompt, ident, parent, password)\u001b[0m\n\u001b[0;32m   1049\u001b[0m             \u001b[1;32mexcept\u001b[0m \u001b[0mKeyboardInterrupt\u001b[0m\u001b[1;33m:\u001b[0m\u001b[1;33m\u001b[0m\u001b[1;33m\u001b[0m\u001b[0m\n\u001b[0;32m   1050\u001b[0m                 \u001b[1;31m# re-raise KeyboardInterrupt, to truncate traceback\u001b[0m\u001b[1;33m\u001b[0m\u001b[1;33m\u001b[0m\u001b[1;33m\u001b[0m\u001b[0m\n\u001b[1;32m-> 1051\u001b[1;33m                 \u001b[1;32mraise\u001b[0m \u001b[0mKeyboardInterrupt\u001b[0m\u001b[1;33m(\u001b[0m\u001b[1;34m\"Interrupted by user\"\u001b[0m\u001b[1;33m)\u001b[0m \u001b[1;32mfrom\u001b[0m \u001b[1;32mNone\u001b[0m\u001b[1;33m\u001b[0m\u001b[1;33m\u001b[0m\u001b[0m\n\u001b[0m\u001b[0;32m   1052\u001b[0m             \u001b[1;32mexcept\u001b[0m \u001b[0mException\u001b[0m\u001b[1;33m:\u001b[0m\u001b[1;33m\u001b[0m\u001b[1;33m\u001b[0m\u001b[0m\n\u001b[0;32m   1053\u001b[0m                 \u001b[0mself\u001b[0m\u001b[1;33m.\u001b[0m\u001b[0mlog\u001b[0m\u001b[1;33m.\u001b[0m\u001b[0mwarning\u001b[0m\u001b[1;33m(\u001b[0m\u001b[1;34m\"Invalid Message:\"\u001b[0m\u001b[1;33m,\u001b[0m \u001b[0mexc_info\u001b[0m\u001b[1;33m=\u001b[0m\u001b[1;32mTrue\u001b[0m\u001b[1;33m)\u001b[0m\u001b[1;33m\u001b[0m\u001b[1;33m\u001b[0m\u001b[0m\n",
      "\u001b[1;31mKeyboardInterrupt\u001b[0m: Interrupted by user"
     ]
    }
   ],
   "source": [
    "def rgb_to_grayscale():\n",
    "    image_converted = False\n",
    "    while not image_converted:\n",
    "        img_dir_path = input(\"Please enter the image directory path of the images you would like to convert to Grayscale: \")\n",
    "        try:\n",
    "            for img_path in os.listdir(img_dir_path):\n",
    "                img = Image.open(os.path.join(img_dir_path, img_path)).convert('L')\n",
    "                img.save(os.path.join(img_dir_path, img_path))\n",
    "            image_converted = True\n",
    "        except:\n",
    "            print(\"Not all files in the directory are RGB images, or some images cannot be opened.\")\n",
    "            print(\"Please ensure all images in the directory are RGB images.\")\n",
    "    print(\"Converted to Grayscale: \")\n",
    "    return img_dir_path\n",
    "\n",
    "rgb_to_grayscale()"
   ]
  },
  {
   "cell_type": "markdown",
   "metadata": {
    "id": "YftGAltfBBZF"
   },
   "source": [
    "### **1a. In case you want to convert it back to RGB. This function reverts everything it's done on the previous one.**"
   ]
  },
  {
   "cell_type": "code",
   "execution_count": null,
   "metadata": {
    "colab": {
     "base_uri": "https://localhost:8080/",
     "height": 108
    },
    "executionInfo": {
     "elapsed": 2932,
     "status": "ok",
     "timestamp": 1646728453481,
     "user": {
      "displayName": "Tony Benson",
      "photoUrl": "https://lh3.googleusercontent.com/a/default-user=s64",
      "userId": "09097856991483297044"
     },
     "user_tz": -480
    },
    "id": "YxAr0Rw2AmLX",
    "outputId": "1ed02b7b-0931-47c2-d78e-1bb70ee6800e"
   },
   "outputs": [],
   "source": [
    "def grayscale_to_rgb():\n",
    "    image_converted = False\n",
    "    while not image_converted:\n",
    "        img_dir_path = input(\"Please enter the image directory path of the images you would like to convert to RGB: \")\n",
    "        try:\n",
    "            for img_path in os.listdir(img_dir_path):\n",
    "                img = Image.open(os.path.join(img_dir_path, img_path)).convert('RGB')\n",
    "                img.save(os.path.join(img_dir_path, img_path))\n",
    "            image_converted = True\n",
    "        except:\n",
    "            print(\"Not all files in the directory are grayscale images, or some images cannot be opened.\")\n",
    "            print(\"Please ensure all images in the directory are grayscale images.\")\n",
    "    print(\"Converted to RGB: \")\n",
    "    return img_dir_path\n",
    "grayscale_to_rgb()"
   ]
  },
  {
   "cell_type": "markdown",
   "metadata": {
    "id": "5OT-ylAdCLZO"
   },
   "source": [
    "###**2. This function converts images to jpg.**\n",
    "\n",
    "Requires user input of image directory. The directory must contain only the images to be converted."
   ]
  },
  {
   "cell_type": "code",
   "execution_count": 4,
   "metadata": {
    "colab": {
     "base_uri": "https://localhost:8080/",
     "height": 528
    },
    "executionInfo": {
     "elapsed": 5455,
     "status": "error",
     "timestamp": 1646728292363,
     "user": {
      "displayName": "Tony Benson",
      "photoUrl": "https://lh3.googleusercontent.com/a/default-user=s64",
      "userId": "09097856991483297044"
     },
     "user_tz": -480
    },
    "id": "XeKTH4fjB03w",
    "outputId": "acf5b9ff-c776-44b4-8b6b-23a11d40da18"
   },
   "outputs": [
    {
     "name": "stdout",
     "output_type": "stream",
     "text": [
      "Please enter the image directory path of the images you would like to convert: C:\\Users\\chris\\Desktop\\TraumaAI\\01 Test_XL\\\n",
      "Not all files in the directory can be opened.\n",
      "Please ensure all images in the directory are images can be opened with PIL.\n"
     ]
    },
    {
     "data": {
      "text/plain": [
       "'C:\\\\Users\\\\chris\\\\Desktop\\\\TraumaAI\\\\01 Test_XL\\\\'"
      ]
     },
     "execution_count": 4,
     "metadata": {},
     "output_type": "execute_result"
    }
   ],
   "source": [
    "def images_to_jpg():\n",
    "    image_converted = False\n",
    "    while not image_converted:\n",
    "        img_dir_path = input(\"Please enter the image directory path of the images you would like to convert: \")\n",
    "        try:\n",
    "            for img_path in os.listdir(img_dir_path):\n",
    "                img = Image.open(os.path.join(img_dir_path, img_path))\n",
    "                img_name = os.path.splitext(img_path)[0]\n",
    "                img.save(os.path.join(img_dir_path, img_name + \".jpg\"))\n",
    "                if os.path.splitext(img_path)[1] != \".jpg\":\n",
    "                    os.remove(os.path.join(img_dir_path, img_path))\n",
    "            image_converted = True\n",
    "        except:\n",
    "            print(\"Not all files in the directory can be opened.\")\n",
    "            print(\"Please ensure all images in the directory are images can be opened with PIL.\")\n",
    "         \n",
    "\n",
    "        return img_dir_path\n",
    "\n",
    "images_to_jpg()"
   ]
  },
  {
   "cell_type": "markdown",
   "metadata": {
    "id": "9DHgCFHiHyHk"
   },
   "source": [
    "\n",
    "\n",
    "```\n",
    "# This is formatted as code\n",
    "```\n",
    "**Debugged on 8/3**\n",
    "###**3. Image resize**\n",
    "\n",
    "Require user input of image dimension (must be integer value) and an image directory. The directory must contain only images to be converted."
   ]
  },
  {
   "cell_type": "code",
   "execution_count": null,
   "metadata": {
    "colab": {
     "base_uri": "https://localhost:8080/",
     "height": 142
    },
    "executionInfo": {
     "elapsed": 14080,
     "status": "ok",
     "timestamp": 1646727317524,
     "user": {
      "displayName": "Tony Benson",
      "photoUrl": "https://lh3.googleusercontent.com/a/default-user=s64",
      "userId": "09097856991483297044"
     },
     "user_tz": -480
    },
    "id": "SsnG3nE3H8yi",
    "outputId": "071fcaf7-4e13-41e4-ae3a-1bf0e4d78c99"
   },
   "outputs": [],
   "source": [
    "def get_dimensions():\n",
    "    dim_1 = int(input(\"Please input the first input dimension: \"))\n",
    "    dim_2 = int(input(\"Please input the second input dimension: \"))\n",
    "    return dim_1, dim_2\n",
    "\n",
    "def resize_images():\n",
    "    image_converted = False\n",
    "    while not image_converted:\n",
    "        dim_1, dim_2 = get_dimensions()\n",
    "        img_dir_path = input(\"Please enter the image directory path of the images you would like to convert: \")\n",
    "        try:\n",
    "            for img_path in os.listdir(img_dir_path):\n",
    "                img = Image.open(os.path.join(img_dir_path, img_path))\n",
    "                img = img.resize((dim_1, dim_2))\n",
    "                img.save(os.path.join(img_dir_path, img_path))\n",
    "            image_converted = True\n",
    "        except:\n",
    "            print(\"Not all files in the directory can be opened.\")\n",
    "            print(\"Please ensure all images in the directory are images can be opened with PIL.\")\n",
    "        \n",
    "        print(\"All images resized: \")\n",
    "\n",
    "    return img_dir_path\n",
    " \n",
    "resize_images()"
   ]
  },
  {
   "cell_type": "code",
   "execution_count": null,
   "metadata": {
    "id": "GztNWBI_J1wW"
   },
   "outputs": [],
   "source": []
  }
 ],
 "metadata": {
  "colab": {
   "authorship_tag": "ABX9TyNGWCWORZji3qZEFnNwgYlN",
   "mount_file_id": "15m2-gOXM9Jodfd6lalY1a1RgDE3ycvRN",
   "name": "(updated) add-on_functions.ipynb",
   "provenance": []
  },
  "kernelspec": {
   "display_name": "Python 3 (ipykernel)",
   "language": "python",
   "name": "python3"
  },
  "language_info": {
   "codemirror_mode": {
    "name": "ipython",
    "version": 3
   },
   "file_extension": ".py",
   "mimetype": "text/x-python",
   "name": "python",
   "nbconvert_exporter": "python",
   "pygments_lexer": "ipython3",
   "version": "3.8.12"
  }
 },
 "nbformat": 4,
 "nbformat_minor": 4
}
